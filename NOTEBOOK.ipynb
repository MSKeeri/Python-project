{
 "cells": [
  {
   "cell_type": "code",
   "execution_count": 2,
   "id": "9f3c1ab7",
   "metadata": {},
   "outputs": [],
   "source": [
    "from tkinter import*\n",
    "from tkinter import filedialog,scrolledtext\n",
    "from tkinter.ttk import*"
   ]
  },
  {
   "cell_type": "code",
   "execution_count": 3,
   "id": "fa82fc83",
   "metadata": {},
   "outputs": [],
   "source": [
    "def click():\n",
    "    return window.destroy()\n",
    "def opened():\n",
    "    file=filedialog.askdirectory()\n",
    "    print(file)\n",
    "def save():\n",
    "    file=filedialog.asksaveasfile()\n",
    "    print(file)\n",
    "    \n",
    "    \n",
    "\n",
    "def cut():\n",
    "    return ctrl +x\n",
    "    "
   ]
  },
  {
   "cell_type": "code",
   "execution_count": 4,
   "id": "d342603f",
   "metadata": {},
   "outputs": [],
   "source": [
    " def new():   \n",
    "    window=Tk()\n",
    "    window.title('NOTEPAD')\n",
    "    window.geometry('300x300')\n",
    "    menu=Menu(window)\n",
    "\n",
    "    txt = scrolledtext.ScrolledText(window,width=37,height=100)\n",
    "\n",
    "    txt.grid(column=0,row=0)\n",
    "\n",
    "    item1=Menu(menu, tearoff=0)\n",
    "    item2=Menu(menu, tearoff=0)\n",
    "    item3=Menu(menu)\n",
    "\n",
    "    item3.add_command(label='New Window',command=new)\n",
    "    item1.add_cascade(label='New',menu=item3)\n",
    "    item1.add_command(label='Open',command=opened)\n",
    "    item1.add_command(label='save',command=save)\n",
    "    item1.add_command(label='Delete',command=click)\n",
    "    menu.add_cascade(label='File',menu=item1)\n",
    "\n",
    "    item2.add_command(label='Undo')\n",
    "    item2.add_command(label='Cut',command=cut)\n",
    "    item2.add_command(label='Paste')\n",
    "    menu.add_cascade(label='Edit',menu=item2)\n",
    "    window.config(menu=menu)\n",
    "\n",
    "\n",
    "\n",
    "    window.mainloop()\n",
    "new()"
   ]
  },
  {
   "cell_type": "code",
   "execution_count": null,
   "id": "d970200f",
   "metadata": {},
   "outputs": [],
   "source": []
  }
 ],
 "metadata": {
  "kernelspec": {
   "display_name": "Python 3 (ipykernel)",
   "language": "python",
   "name": "python3"
  },
  "language_info": {
   "codemirror_mode": {
    "name": "ipython",
    "version": 3
   },
   "file_extension": ".py",
   "mimetype": "text/x-python",
   "name": "python",
   "nbconvert_exporter": "python",
   "pygments_lexer": "ipython3",
   "version": "3.10.9"
  }
 },
 "nbformat": 4,
 "nbformat_minor": 5
}
