{
 "cells": [
  {
   "cell_type": "code",
   "execution_count": 2,
   "id": "31701934",
   "metadata": {},
   "outputs": [],
   "source": [
    "from tkinter import*\n",
    "from tkinter import ttk\n"
   ]
  },
  {
   "cell_type": "code",
   "execution_count": 4,
   "id": "4f50690b",
   "metadata": {},
   "outputs": [
    {
     "name": "stdout",
     "output_type": "stream",
     "text": [
      "None\n",
      "None\n",
      "None\n"
     ]
    }
   ],
   "source": [
    "window=Tk()\n",
    "window.geometry('220x175')\n",
    "window.title('CALCULATER')\n",
    "\n",
    "def set_text(text):\n",
    "    print(entry1.insert(END,text))\n",
    "\n",
    "def clear():\n",
    "    entry1.delete(0,END)\n",
    "def dlt():\n",
    "    a=entry1.get()\n",
    "    length=len(a)\n",
    "    entry1.delete(length-1,END)\n",
    "def equals():\n",
    "    while True:\n",
    "        global e\n",
    "        m=entry1.get()\n",
    "        r=str(m)\n",
    "        w=eval(r)\n",
    "        e=('=',w)\n",
    "        return e\n",
    "    \n",
    "    \n",
    "def final():\n",
    "    global e\n",
    "    equals()\n",
    "    entry1.insert(END,e)\n",
    "    \n",
    "def error():\n",
    "    try:\n",
    "        final()\n",
    "    except:\n",
    "        clear()\n",
    "        entry1.insert(END,'syntax error')\n",
    "\n",
    "    \n",
    "    \n",
    "    \n",
    "    \n",
    "btn1=Button(window,text=9,width=6,fg='dark blue',command=lambda:set_text(9)).place(x=1,y=50)\n",
    "btn1=Button(window,text=8,width=6,fg='dark blue',command=lambda:set_text(8)).place(x=50,y=50)\n",
    "btn1=Button(window,text=7,width=6,fg='dark blue',command=lambda:set_text(7)).place(x=100,y=50)\n",
    "btn1=Button(window,text='x',font=25,width=7,bg='grey',fg='dark blue',command=lambda:set_text('*')).place(x=150,y=50)\n",
    "btn1=Button(window,text=6,width=6,fg='dark blue',command=lambda:set_text(6)).place(x=1,y=75)\n",
    "btn1=Button(window,text=5,width=6,fg='dark blue',command=lambda:set_text(5)).place(x=50,y=75)\n",
    "btn1=Button(window,text=4,width=6,fg='dark blue',command=lambda:set_text(4)).place(x=100,y=75)\n",
    "btn1=Button(window,text='-',font=25,width=7,bg='grey',fg='dark blue',command=lambda:set_text('-')).place(x=150,y=75)\n",
    "btn1=Button(window,text=3,width=6,fg='dark blue',command=lambda:set_text(3)).place(x=1,y=100)\n",
    "btn1=Button(window,text=2,width=6,fg='dark blue',command=lambda:set_text(2)).place(x=50,y=100)\n",
    "btn1=Button(window,text=1,width=6,fg='dark blue',command=lambda:set_text(1)).place(x=100,y=100)\n",
    "btn1=Button(window,text='+',font=25,width=7,bg='grey',fg='dark blue',command=lambda:set_text('+')).place(x=150,y=100)\n",
    "btn1=Button(window,text='C',width=6,bg='red',fg='dark blue',command=clear).place(x=1,y=125)\n",
    "btn1=Button(window,text=0,width=6,fg='dark blue',command=lambda:set_text('0')).place(x=50,y=125)\n",
    "btn1=Button(window,text='.',width=6,fg='dark blue',command=lambda:set_text('.')).place(x=100,y=125)\n",
    "btn1=Button(window,text='/',font=25,width=7,bg='grey',fg='dark blue',command=lambda:set_text('/')).place(x=150,y=125)\n",
    "btn1=Button(window,text='AC',font=17,width=13,bg='grey',fg='dark blue',command=dlt).place(x=110,y=150)\n",
    "btn1=Button(window,text='=',font=17,width=11,bg='grey',fg='dark blue',command=error).place(x=1,y=150)\n",
    "entry1=Entry(window)\n",
    "entry1.place(x=1,y=1,width=215)\n",
    "\n",
    "window.mainloop() \n",
    "\n",
    "\n"
   ]
  },
  {
   "cell_type": "code",
   "execution_count": null,
   "id": "17b3c99e",
   "metadata": {},
   "outputs": [],
   "source": []
  },
  {
   "cell_type": "code",
   "execution_count": null,
   "id": "11bd3ed9",
   "metadata": {},
   "outputs": [],
   "source": []
  }
 ],
 "metadata": {
  "kernelspec": {
   "display_name": "Python 3 (ipykernel)",
   "language": "python",
   "name": "python3"
  },
  "language_info": {
   "codemirror_mode": {
    "name": "ipython",
    "version": 3
   },
   "file_extension": ".py",
   "mimetype": "text/x-python",
   "name": "python",
   "nbconvert_exporter": "python",
   "pygments_lexer": "ipython3",
   "version": "3.10.9"
  }
 },
 "nbformat": 4,
 "nbformat_minor": 5
}
