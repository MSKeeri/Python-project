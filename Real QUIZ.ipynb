{
 "cells": [
  {
   "cell_type": "code",
   "execution_count": 4,
   "id": "25f3aa03",
   "metadata": {},
   "outputs": [],
   "source": [
    "from tkinter import*\n",
    "from tkinter.ttk import*"
   ]
  },
  {
   "cell_type": "code",
   "execution_count": 5,
   "id": "894ee000",
   "metadata": {},
   "outputs": [],
   "source": [
    "def Question():\n",
    "    score=0\n",
    "    if 'Carbohydrates'==selected1.get():\n",
    "        score+=1\n",
    "    if '27 September 2013'==selected2.get():\n",
    "        score+=1\n",
    "    if '3'==selected3.get():\n",
    "        score+=1\n",
    "    if 'Gujarat'==selected4.get():\n",
    "        score+=1\n",
    "    entry.insert(END,score)\n",
    "    btn.config(state='disabled')\n",
    "  "
   ]
  },
  {
   "cell_type": "code",
   "execution_count": 6,
   "id": "615c48e2",
   "metadata": {},
   "outputs": [],
   "source": [
    "window=Tk()\n",
    "window.geometry('550x550')\n",
    "window.title('Quiz')\n",
    "\n",
    "selected1=StringVar()\n",
    "selected2=StringVar()\n",
    "selected3=StringVar()\n",
    "selected4=StringVar()\n",
    "\n",
    "Question1=Label(window,text='1:What should be given to an athlete for constant energy?').place(x=25,y=25)\n",
    "option1=Radiobutton(window,text='Carbohydrates',value='Carbohydrates',variable=selected1).place(x=100,y=40)\n",
    "option2=Radiobutton(window,text='Protein',value='Protein',variable=selected1).place(x=100,y=60)\n",
    "option3=Radiobutton(window,text='Vitamin',value='Vitamin',variable=selected1).place(x=100,y=80)\n",
    "option4=Radiobutton(window,text='Calorie',value='Calorie',variable=selected1).place(x=100,y=100)       \n",
    "\n",
    "Question2=Label(window,text='2:Supreme Court granted the right to negative voting on?').place(x=25,y=125)\n",
    "option1=Radiobutton(window,text='11 September 2013',value='11 September 2013',variable=selected2).place(x=100,y=140)\n",
    "option2=Radiobutton(window,text='27 September 2013',value='27 September 2013',variable=selected2).place(x=100,y=160)\n",
    "option3=Radiobutton(window,text='1 Janvary 2014',value= '1 Janvary 2014',variable=selected2).place(x=100,y=180)\n",
    "option4=Radiobutton(window,text='3 April 2014',value='3 April 2014',variable=selected2).place(x=100,y=200)\n",
    "\n",
    "Question3=Label(window,text='3:Number of central prisons in Kerla?').place(x=25,y=225)\n",
    "option1=Radiobutton(window,text='5',value='5',variable=selected3).place(x=100,y=240)\n",
    "option2=Radiobutton(window,text='8',value='8',variable=selected3).place(x=100,y=260)\n",
    "option3=Radiobutton(window,text='3',value='3',variable=selected3).place(x=100,y=280)\n",
    "option4=Radiobutton(window,text='7',value='7',variable=selected3).place(x=100,y=300)\n",
    "\n",
    "Question4=Label(window,text='4:Which state is famous for step-wells?').place(x=25,y=325)\n",
    "option1=Radiobutton(window,text='Delhi',value='Delhi',variable=selected4).place(x=100,y=340)\n",
    "option2=Radiobutton(window,text='Goa',value='Goa',variable=selected4).place(x=100,y=360)\n",
    "option3=Radiobutton(window,text='Karnataka',value='Karnataka',variable=selected4).place(x=100,y=380)\n",
    "option4=Radiobutton(window,text='Gujarat',value='Gujarat',variable=selected4).place(x=100,y=400)\n",
    "\n",
    "btn=Button(window,text='score',command=Question)\n",
    "btn.place(x=150,y=450)\n",
    "entry=Entry(window,width=11)\n",
    "entry.place(x=150,y=480)\n",
    "window.mainloop()\n"
   ]
  },
  {
   "cell_type": "code",
   "execution_count": null,
   "id": "d3de4301",
   "metadata": {},
   "outputs": [],
   "source": []
  }
 ],
 "metadata": {
  "kernelspec": {
   "display_name": "Python 3 (ipykernel)",
   "language": "python",
   "name": "python3"
  },
  "language_info": {
   "codemirror_mode": {
    "name": "ipython",
    "version": 3
   },
   "file_extension": ".py",
   "mimetype": "text/x-python",
   "name": "python",
   "nbconvert_exporter": "python",
   "pygments_lexer": "ipython3",
   "version": "3.10.9"
  }
 },
 "nbformat": 4,
 "nbformat_minor": 5
}
